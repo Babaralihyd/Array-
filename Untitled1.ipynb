{
  "nbformat": 4,
  "nbformat_minor": 0,
  "metadata": {
    "colab": {
      "provenance": [],
      "authorship_tag": "ABX9TyOKxKKVz2Dgh+Ygv73rD1+P",
      "include_colab_link": true
    },
    "kernelspec": {
      "name": "python3",
      "display_name": "Python 3"
    },
    "language_info": {
      "name": "python"
    }
  },
  "cells": [
    {
      "cell_type": "markdown",
      "metadata": {
        "id": "view-in-github",
        "colab_type": "text"
      },
      "source": [
        "<a href=\"https://colab.research.google.com/github/Babaralihyd/Array-/blob/main/Untitled1.ipynb\" target=\"_parent\"><img src=\"https://colab.research.google.com/assets/colab-badge.svg\" alt=\"Open In Colab\"/></a>"
      ]
    },
    {
      "cell_type": "code",
      "execution_count": 1,
      "metadata": {
        "colab": {
          "base_uri": "https://localhost:8080/"
        },
        "id": "zg4hP6o41GIA",
        "outputId": "c83d89a8-b69c-44c3-8720-ec314e69863e"
      },
      "outputs": [
        {
          "output_type": "stream",
          "name": "stdout",
          "text": [
            "This is a string with single quotes\n",
            "This is a string with double quotes\n",
            "This is a string with triple quotes\n"
          ]
        }
      ],
      "source": [
        "# Python Strings Assignment\n",
        "# Part 1: Understanding String Literals\n",
        "#1 Create three different strings using each type of quotation\n",
        "SingleQuotes = 'This is a string with single quotes'\n",
        "DoubleQuotes = \"This is a string with double quotes\"\n",
        "TripleQuotes = \"\"\"This is a string with triple quotes\"\"\"\n",
        "print(SingleQuotes)\n",
        "print(DoubleQuotes)\n",
        "print(TripleQuotes)"
      ]
    },
    {
      "cell_type": "code",
      "source": [
        "#2  Explain in your own words: What is the advantage of each type of quotation?\n",
        "Exp_single = ' single =  Ideal for short strings, especially when the string does not contain double quotes. They are compact and easier to type for simple strings'\n",
        "Exp_double = \" double = Useful when the string contains single quotes. It avoids the need for escaping characters. \"\n",
        "Exp_triple = \"\"\" triple = Best for multi-line strings. This allows you to include line breaks, and it’s also useful when the string has both single and double quotes \"\"\"\n",
        "print(Exp_single)\n",
        "print(Exp_double)\n",
        "print(Exp_triple)\n"
      ],
      "metadata": {
        "colab": {
          "base_uri": "https://localhost:8080/"
        },
        "id": "_3sKpXnV1bx0",
        "outputId": "31c9e4c1-1c62-4cc2-bc4e-8f7787c8fd47"
      },
      "execution_count": 2,
      "outputs": [
        {
          "output_type": "stream",
          "name": "stdout",
          "text": [
            " single =  Ideal for short strings, especially when the string does not contain double quotes. They are compact and easier to type for simple strings\n",
            " double = Useful when the string contains single quotes. It avoids the need for escaping characters. \n",
            " triple = Best for multi-line strings. This allows you to include line breaks, and it’s also useful when the string has both single and double quotes \n"
          ]
        }
      ]
    },
    {
      "cell_type": "code",
      "source": [
        "#3.  Write a string that contains both single and double quotes inside it.\n",
        "str = \"He said, 'It's a beautiful day in Ramzan\"\n",
        "print(str)\n"
      ],
      "metadata": {
        "colab": {
          "base_uri": "https://localhost:8080/"
        },
        "id": "vVaeMNW11hWB",
        "outputId": "c9284277-c66b-4998-b970-12dd85f0b302"
      },
      "execution_count": 3,
      "outputs": [
        {
          "output_type": "stream",
          "name": "stdout",
          "text": [
            "He said, 'It's a beautiful day in Ramzan\n"
          ]
        }
      ]
    },
    {
      "cell_type": "code",
      "source": [
        "# Create a multi-line string using triple quotes that describes your favorite hobby\n",
        "\n",
        "hobby = \"\"\"\n",
        "Over the past few months, I’ve been learning to code.\n",
        "It started as a necessity, but quickly became something I really enjoy.\n",
        "From experimenting with new projects to mastering the basics,\n",
        "each task is an opportunity to try something new.\n",
        "The process of writing code and sharing it with others has been incredibly rewarding.\n",
        "\"\"\"\n",
        "print(hobby)"
      ],
      "metadata": {
        "colab": {
          "base_uri": "https://localhost:8080/"
        },
        "id": "_E07CVvs1rUy",
        "outputId": "e3ee4021-64fc-4f19-94cb-71a2a1dfb6cc"
      },
      "execution_count": 4,
      "outputs": [
        {
          "output_type": "stream",
          "name": "stdout",
          "text": [
            "\n",
            "Over the past few months, I’ve been learning to code.\n",
            "It started as a necessity, but quickly became something I really enjoy.\n",
            "From experimenting with new projects to mastering the basics,\n",
            "each task is an opportunity to try something new.\n",
            "The process of writing code and sharing it with others has been incredibly rewarding.\n",
            "\n"
          ]
        }
      ]
    },
    {
      "cell_type": "code",
      "source": [
        "#Part 2: String Methods Practice\n",
        "# 1 Create a variable full_name with your full name (first and last name). Then write code to:\n",
        "# uppercase\n",
        "# lowercase\n",
        "#the first letter of each name capitalized\n",
        "\n",
        "full_name = \"Babar ali\"\n",
        "\n",
        "print(full_name.upper())\n",
        "print(full_name.lower())\n",
        "print(full_name.title())"
      ],
      "metadata": {
        "colab": {
          "base_uri": "https://localhost:8080/"
        },
        "id": "129tXLmm1vcq",
        "outputId": "e02e74b0-552e-476a-cecf-fe80bb127df6"
      },
      "execution_count": 6,
      "outputs": [
        {
          "output_type": "stream",
          "name": "stdout",
          "text": [
            "BABAR ALI\n",
            "babar ali\n",
            "Babar Ali\n"
          ]
        }
      ]
    },
    {
      "cell_type": "code",
      "source": [
        "#2. Create a variable messy_text = \" Python programming is fun! \" Then write code to:\n",
        "#Remove all the extra spaces at the beginning and end\n",
        "#Replace \"fun\" with \"amazing\"\n",
        "#Count how many times the letter 'i' appears\n",
        "\n",
        "messy_text = \" python programing is fun! \"\n",
        "\n",
        "space_remove_text = messy_text.strip()\n",
        "print(space_remove_text)\n",
        "\n",
        "updated_text = messy_text.replace(\"fun\", \"amazing\")\n",
        "print(updated_text)\n",
        "\n",
        "count_appear_i = messy_text.count('i')\n",
        "print(count_appear_i,\"time\")\n",
        "\n",
        "\n",
        "\n"
      ],
      "metadata": {
        "colab": {
          "base_uri": "https://localhost:8080/"
        },
        "id": "dZs4Svq32DAy",
        "outputId": "6fe92357-a0d7-438c-a14d-e7e9946b5cbb"
      },
      "execution_count": 7,
      "outputs": [
        {
          "output_type": "stream",
          "name": "stdout",
          "text": [
            "python programing is fun!\n",
            " python programing is amazing! \n",
            "2 time\n"
          ]
        }
      ]
    },
    {
      "cell_type": "code",
      "source": [
        "#3. Create a variable sentence = \"The quick brown fox jumps over the lazy dog\"  Then write code to:\n",
        "#Split this sentence into a list of words\n",
        "# Join the words back together with dashes between them\n",
        "# Check if the sentence starts with \"The\"\n",
        "# Find the position of the word \"fox\"\n",
        "\n",
        "\n",
        "sentence = \"The quick brown fox jumps over the lazy dog\"\n",
        "\n",
        "list = sentence.split()\n",
        "print(list)\n",
        "\n",
        "JoinedSentence = \"-\".join(list)\n",
        "print(JoinedSentence)\n",
        "\n",
        "StartsWithThe = sentence.startswith(\"The\")\n",
        "print(StartsWithThe)\n",
        "\n",
        "positionFox = sentence.find(\"fox\")\n",
        "print(positionFox)\n",
        "\n",
        "\n",
        "\n",
        "\n",
        "\n",
        "\n",
        "\n"
      ],
      "metadata": {
        "colab": {
          "base_uri": "https://localhost:8080/"
        },
        "id": "mx36xZTr2E5I",
        "outputId": "4a18fbfd-cc6e-46b7-b925-1b0fd3282f0c"
      },
      "execution_count": 8,
      "outputs": [
        {
          "output_type": "stream",
          "name": "stdout",
          "text": [
            "['The', 'quick', 'brown', 'fox', 'jumps', 'over', 'the', 'lazy', 'dog']\n",
            "The-quick-brown-fox-jumps-over-the-lazy-dog\n",
            "True\n",
            "16\n"
          ]
        }
      ]
    },
    {
      "cell_type": "code",
      "source": [
        "#Part3 F-Strings\n",
        "\n",
        "#1 Create variables for:\n",
        "#  Your name\n",
        "#  Your age\n",
        "#  Your favorite programming language\n",
        "#then\n",
        "#  \"My name is {your_name} and I am {your_age} years old.\"\n",
        "#  \"I enjoy programming in {language}, it's my favorite!\"\n",
        "#  Create a math expression inside an f-string: \"In 5 years, I will be {age + 5} years\n",
        "#  old.\"\n",
        "\n",
        "\n",
        "name = \"Babar Ali\"\n",
        "age = 25\n",
        "language = \"Python\"\n",
        "\n",
        "sentence1 = f\"My name is {name} and I am {age} years old.\"\n",
        "sentence2 = f\"I enjoy programming in {language}, it's my favorite!\"\n",
        "\n",
        "print(sentence1)\n",
        "print(sentence2)\n",
        "\n",
        "sentence3 = f\"In 5 years, I will be {age + 5} years old.\"\n",
        "print(sentence3)\n",
        "\n",
        "\n",
        "\n",
        "\n"
      ],
      "metadata": {
        "colab": {
          "base_uri": "https://localhost:8080/"
        },
        "id": "B1sgc1bf2juQ",
        "outputId": "3b19d249-cebe-4212-a2a3-b1b4c4adcfa6"
      },
      "execution_count": 14,
      "outputs": [
        {
          "output_type": "stream",
          "name": "stdout",
          "text": [
            "My name is Babar Ali and I am 25 years old.\n",
            "I enjoy programming in Python, it's my favorite!\n",
            "In 5 years, I will be 30 years old.\n"
          ]
        }
      ]
    },
    {
      "cell_type": "code",
      "source": [
        "# Part 4: Combining String Methods with F-Strings\n",
        "# Create a program that:\n",
        "# 1. Asks for user input about their first name, last name, and birth year\n",
        "# 2. Uses string methods to properly capitalize their name\n",
        "# 3. Uses f-strings to create a profile message: \"Profile: {First Last}, Age: {calculated age},\n",
        "# Username: {first initial + last name + birth year}\"\n",
        "\n",
        "\n",
        "\n",
        "\n",
        "\n",
        "\n",
        "\n",
        "first_name = input(\"Enter your first name: \")\n",
        "last_name = input(\"Enter your last name: \")\n",
        "birth_year = int(input(\"Enter your birth year: \"))\n",
        "current_year = 2025\n",
        "\n",
        "print(first_name.capitalize())\n",
        "print(last_name.capitalize())\n",
        "\n",
        "age = current_year - birth_year\n",
        "username = f\" Name :{first_name.lower()} , Last Name :  {last_name.lower()} , Date of brith :   {birth_year} ,\"\n",
        "\n",
        "profile_message = f\"Profile: {first_name}  {last_name}, Age:  {age},  Username: {username}\"\n",
        "\n",
        "print(profile_message)"
      ],
      "metadata": {
        "colab": {
          "base_uri": "https://localhost:8080/"
        },
        "id": "i_aQ8WkZ27YR",
        "outputId": "3822bf8a-b13c-4cb5-d72f-1c3c80c7ca7d"
      },
      "execution_count": 13,
      "outputs": [
        {
          "output_type": "stream",
          "name": "stdout",
          "text": [
            "Enter your first name: bABAR\n",
            "Enter your last name: ALI\n",
            "Enter your birth year: 2003\n",
            "Babar\n",
            "Ali\n",
            "Profile: bABAR  ALI, Age:  22,  Username:  Name :babar , Last Name :  ali , Date of brith :   2003 ,\n"
          ]
        }
      ]
    }
  ]
}